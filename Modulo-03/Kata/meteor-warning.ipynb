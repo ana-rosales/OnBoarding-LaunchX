{
 "cells": [
  {
   "cell_type": "markdown",
   "metadata": {},
   "source": [
    "# Alerta de asteroides\n",
    "## Caso 1\n",
    "Un asteroide se acerca, viaja a una velocidad de 49 km/s. ¿Representa una amenanza?"
   ]
  },
  {
   "cell_type": "code",
   "execution_count": 1,
   "metadata": {},
   "outputs": [
    {
     "name": "stdout",
     "output_type": "stream",
     "text": [
      "¡Alerta de impacto, un asteroide se acerca a 49 km/s!\n"
     ]
    }
   ],
   "source": [
    "velocidad = 49\n",
    "if velocidad > 25:\n",
    "    print(\"¡Alerta de impacto, un asteroide se acerca a \" + str(velocidad) + \" km/s!\")\n",
    "else:\n",
    "    print(\"Sin riesgo de impacto :)\")"
   ]
  },
  {
   "cell_type": "markdown",
   "metadata": {},
   "source": [
    "## Caso 2\n",
    "¡Un asteroide se dirige a la tierra a 19 km/s! Si para que un asteroide produzca un rayo de luz requiere de mínimo 20 km/s. ¿Se alcanzará a ver su trayectoria desde la superficie?"
   ]
  },
  {
   "cell_type": "code",
   "execution_count": 2,
   "metadata": {},
   "outputs": [
    {
     "name": "stdout",
     "output_type": "stream",
     "text": [
      "No se puede visualizar la trayectoria del asteroide.\n"
     ]
    }
   ],
   "source": [
    "velocidad = 19\n",
    "if velocidad >= 20:\n",
    "    print(\"¡Rápido observa el cielo, un asteroide pasará!\")\n",
    "else:\n",
    "    print(\"No se puede visualizar la trayectoria del asteroide.\")"
   ]
  },
  {
   "cell_type": "markdown",
   "metadata": {},
   "source": [
    "## Actualización del sistema\n",
    "El sistema ahora podrá: \n",
    "- Determinar si un asteroide que se aproxima aparenta un riesgo para la tierra en base en su velocidad y tamaño.\n",
    "    - Tamaño máximo seguro:  25 m.\n",
    "    - Velocidad máximo seguro: 25 km/s. \n",
    "- Indicar si se podrá observar un rayo de luz, producido por el mismo.\n",
    "    - Velocidad mínima para formación del rayo: 20 km/s."
   ]
  },
  {
   "cell_type": "code",
   "execution_count": 10,
   "metadata": {},
   "outputs": [
    {
     "name": "stdout",
     "output_type": "stream",
     "text": [
      "Sin riesgo de impacto :)\n",
      "La velocidad del asteroide no excede los límites seguros. \n",
      "Sin embargo, los fragmentos que ingresan a la atmósfera pueden causar daños severos.\n",
      "No se podrá apreciar la trayectoria del asteroide.\n"
     ]
    }
   ],
   "source": [
    "velocidad = 15\n",
    "tamaño = 90\n",
    "if velocidad > 25 and tamaño > 25:\n",
    "    print(\"¡Alerta de impacto, un asteroide se acerca a \" + str(velocidad) + \" km/s con dimensiones máximas de \" + str(tamaño) + \" m!\")\n",
    "else:\n",
    "    print(\"Sin riesgo de impacto :)\")\n",
    "    if velocidad <= 25 and tamaño <= 25:\n",
    "        print(\"Ni el tamaño ni la velocidad del asteroide no exceden los límites seguros.\")\n",
    "    elif tamaño <= 25:\n",
    "        print(\"El tamaño del asteroide no excede los límites seguros.\")\n",
    "    elif velocidad <= 25:\n",
    "        print(\"La velocidad del asteroide no excede los límites seguros. \\nSin embargo, los fragmentos que ingresan a la atmósfera pueden causar daños severos.\")\n",
    "\n",
    "if velocidad >= 20:\n",
    "    print(\"Se podrá observar la trayectoria del asteroide.\")\n",
    "else:\n",
    "    print(\"No se podrá apreciar la trayectoria del asteroide.\")\n"
   ]
  }
 ],
 "metadata": {
  "interpreter": {
   "hash": "78a24313ce5d297e1f882932b410a04f19d5e4270d237ad6f167088696cc12c9"
  },
  "kernelspec": {
   "display_name": "Python 3.9.10 64-bit (windows store)",
   "language": "python",
   "name": "python3"
  },
  "language_info": {
   "codemirror_mode": {
    "name": "ipython",
    "version": 3
   },
   "file_extension": ".py",
   "mimetype": "text/x-python",
   "name": "python",
   "nbconvert_exporter": "python",
   "pygments_lexer": "ipython3",
   "version": "3.9.10"
  },
  "orig_nbformat": 4
 },
 "nbformat": 4,
 "nbformat_minor": 2
}
