{
 "cells": [
  {
   "cell_type": "markdown",
   "metadata": {},
   "source": [
    "# Mejorando la nave\n",
    "## Fecha actual\n",
    "En este programa utilizaremos la fecha del día de hoy, para lo cual tenemos que importar *date* y para imprimirla convertirla a *str* con la función *str()*."
   ]
  },
  {
   "cell_type": "code",
   "execution_count": 2,
   "metadata": {},
   "outputs": [
    {
     "name": "stdout",
     "output_type": "stream",
     "text": [
      "Today's date is: 2022-02-10\n"
     ]
    }
   ],
   "source": [
    "# importar fecha\n",
    "from datetime import date\n",
    "\n",
    "# imprimirla convirtiendola a str\n",
    "print(\"Today's date is: \" + str(date.today()))"
   ]
  },
  {
   "cell_type": "markdown",
   "metadata": {},
   "source": [
    "## Convertidor de unidades\n",
    "Para realizar la conversiónde parsecs a años luz primero se obtienen sus equivalencias:\n",
    "\n",
    "*1 pársec = 3.26156 años luz*\n",
    "\n",
    "Luego de realizar la conversión se convierten los resultados a str para poder imprimirlos."
   ]
  },
  {
   "cell_type": "code",
   "execution_count": 4,
   "metadata": {},
   "outputs": [
    {
     "name": "stdout",
     "output_type": "stream",
     "text": [
      "11 parsec, is 35.877159999999996 lightyears.\n"
     ]
    }
   ],
   "source": [
    "parsec = 11\n",
    "lightyears = 0\n",
    "\n",
    "# conversión\n",
    "lightyears = 3.26156 * parsec\n",
    "\n",
    "# imprimir resultados convirtiendolos en str\n",
    "print(str(parsec) + \" parsec, is \" + str(lightyears) + \" lightyears.\") "
   ]
  }
 ],
 "metadata": {
  "interpreter": {
   "hash": "63fd5069d213b44bf678585dea6b12cceca9941eaf7f819626cde1f2670de90d"
  },
  "kernelspec": {
   "display_name": "Python 3.9.6 64-bit",
   "language": "python",
   "name": "python3"
  },
  "language_info": {
   "codemirror_mode": {
    "name": "ipython",
    "version": 3
   },
   "file_extension": ".py",
   "mimetype": "text/x-python",
   "name": "python",
   "nbconvert_exporter": "python",
   "pygments_lexer": "ipython3",
   "version": "3.9.6"
  },
  "orig_nbformat": 4
 },
 "nbformat": 4,
 "nbformat_minor": 2
}
