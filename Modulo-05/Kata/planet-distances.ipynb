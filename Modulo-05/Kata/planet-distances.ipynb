{
 "cells": [
  {
   "cell_type": "markdown",
   "metadata": {},
   "source": [
    "# Distancia entre dos planetas\n",
    "## Ejercicio 1 - Utilizar operadores aritméticos\n",
    "Cálculo de distancia entre dos planetas."
   ]
  },
  {
   "cell_type": "code",
   "execution_count": 3,
   "metadata": {},
   "outputs": [
    {
     "name": "stdout",
     "output_type": "stream",
     "text": [
      "Distancia en metros: 628949330.\n",
      "Distancia en millas: 390577534.\n"
     ]
    }
   ],
   "source": [
    "# Variables para almacenar distancias\n",
    "planeta1 = 149597870\n",
    "planeta2 = 778547200\n",
    "\n",
    "# Calcular distancia\n",
    "distmet = abs(planeta1 - planeta2)\n",
    "distmil = round(distmet * 0.621)\n",
    "\n",
    "print(f\"Distancia en metros: {distmet}.\\nDistancia en millas: {distmil}.\")"
   ]
  },
  {
   "cell_type": "markdown",
   "metadata": {},
   "source": [
    "## Ejercicio 2 - Convertir cadenas en int y abs\n",
    "Leer entrada de usuario y transformarla al tipo de valor deseado para trabajarla."
   ]
  },
  {
   "cell_type": "code",
   "execution_count": 5,
   "metadata": {},
   "outputs": [
    {
     "name": "stdout",
     "output_type": "stream",
     "text": [
      "Distancia en metros: 50300000.\n",
      "Distancia en millas: 31236300.\n"
     ]
    }
   ],
   "source": [
    "# Alnacenar entradas\n",
    "planeta1 = int(input(\"Inserte la distancia del primer planeta: \"))\n",
    "planeta2 = int(input(\"Inserte la distancia del segundo planeta: \"))\n",
    "\n",
    "# Calcular distancia\n",
    "distmet = abs(planeta1 - planeta2)\n",
    "distmil = round(distmet * 0.621)\n",
    "\n",
    "print(f\"Distancia en metros: {distmet}.\\nDistancia en millas: {distmil}.\")"
   ]
  }
 ],
 "metadata": {
  "interpreter": {
   "hash": "63fd5069d213b44bf678585dea6b12cceca9941eaf7f819626cde1f2670de90d"
  },
  "kernelspec": {
   "display_name": "Python 3.9.6 64-bit",
   "language": "python",
   "name": "python3"
  },
  "language_info": {
   "codemirror_mode": {
    "name": "ipython",
    "version": 3
   },
   "file_extension": ".py",
   "mimetype": "text/x-python",
   "name": "python",
   "nbconvert_exporter": "python",
   "pygments_lexer": "ipython3",
   "version": "3.9.6"
  },
  "orig_nbformat": 4
 },
 "nbformat": 4,
 "nbformat_minor": 2
}
