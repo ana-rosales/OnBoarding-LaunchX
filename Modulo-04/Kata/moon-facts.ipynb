{
 "cells": [
  {
   "cell_type": "markdown",
   "metadata": {},
   "source": [
    "# Datos sobre la Luna\n",
    "\n",
    "## Ejercicio 1\n",
    "Extraer datos específicos sobre la Luna, utilizando palabras clave."
   ]
  },
  {
   "cell_type": "code",
   "execution_count": 47,
   "metadata": {},
   "outputs": [
    {
     "name": "stdout",
     "output_type": "stream",
     "text": [
      " \n",
      "\",\"On average, the Moon moves 4cm away from the Earth every year\n",
      " The highest daylight temperature of the Moon is 127 Celsius\n"
     ]
    }
   ],
   "source": [
    "# Texto a utilizar\n",
    "text = \"\"\"Interesting facts about the Moon. The Moon is Earth's only satellite. There are several interesting facts about the Moon and how it affects life here on Earth. \\n\",\"On average, the Moon moves 4cm away from the Earth every year. This yearly drift is not significant enough to cause immediate effects on Earth. The highest daylight temperature of the Moon is 127 C.\"\"\"\n",
    "\n",
    "# Separar en oraciones\n",
    "# print(text.lower().split(\".\"))\n",
    "\n",
    "# Palabras clave\n",
    "keys = [\"average\",\"temperature\",\"distance\"]\n",
    "\n",
    "# Bucle de extracción de información\n",
    "for palabra in text.split(\".\"):\n",
    "    if palabra.lower().find(\"moon\")>0 and (palabra.lower().find(keys[0])>0 or palabra.lower().find(keys[1])>0 or palabra.lower().find(keys[2])>0):\n",
    "        print(palabra.replace(\"C\",\"Celsius\"))\n",
    "    "
   ]
  },
  {
   "cell_type": "markdown",
   "metadata": {},
   "source": [
    "## Ejercicio 2\n",
    "Tabular datos sobre la gravedad de diferentes lunas del Sistema Solar."
   ]
  },
  {
   "cell_type": "code",
   "execution_count": 42,
   "metadata": {},
   "outputs": [
    {
     "name": "stdout",
     "output_type": "stream",
     "text": [
      "\"Datos Gravitacionales sobre \"Ganímedes\" la luna del planeta Marte\"\n",
      "-------------------------------------------------------------------------------\n",
      "Nombre del Planeta: Marte.\n",
      "Gravedad en \"Ganímedes\": 1.4300000000000002 m/s^2.\n"
     ]
    }
   ],
   "source": [
    "# Datos con los que trabajar\n",
    "name = '\"Ganímedes\"'\n",
    "gravity = 0.00143 # en km/s\n",
    "planet = \"Marte\"\n",
    "\n",
    "# Crear el título:\n",
    "tabla = [f'\"Datos Gravitacionales sobre {name} la luna del planeta {planet}\"\\n']\n",
    "\n",
    "# Crear plantilla y convertir km a m\n",
    "gravity *= 1000\n",
    "tabla += [f\"Nombre del Planeta: {planet}.\\nGravedad en {name}: {gravity} m/s^2.\"]\n",
    "\n",
    "tabla = f\"-------------------------------------------------------------------------------\\n\".join(tabla)\n",
    "\n",
    "print(tabla)\n"
   ]
  }
 ],
 "metadata": {
  "interpreter": {
   "hash": "63fd5069d213b44bf678585dea6b12cceca9941eaf7f819626cde1f2670de90d"
  },
  "kernelspec": {
   "display_name": "Python 3.9.6 64-bit",
   "language": "python",
   "name": "python3"
  },
  "language_info": {
   "codemirror_mode": {
    "name": "ipython",
    "version": 3
   },
   "file_extension": ".py",
   "mimetype": "text/x-python",
   "name": "python",
   "nbconvert_exporter": "python",
   "pygments_lexer": "ipython3",
   "version": "3.9.6"
  },
  "orig_nbformat": 4
 },
 "nbformat": 4,
 "nbformat_minor": 2
}
