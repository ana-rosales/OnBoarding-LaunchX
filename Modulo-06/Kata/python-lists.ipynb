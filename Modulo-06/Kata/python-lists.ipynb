{
 "cells": [
  {
   "cell_type": "markdown",
   "metadata": {},
   "source": [
    "# Listas en Python\n",
    "## Ejercicio 1: Crear una lista y usarla\n",
    "Almacenar en una lista nombres de planetas."
   ]
  },
  {
   "cell_type": "code",
   "execution_count": 5,
   "metadata": {},
   "outputs": [
    {
     "name": "stdout",
     "output_type": "stream",
     "text": [
      "Hay 9 planetas y el más lejano es Plutón\n"
     ]
    }
   ],
   "source": [
    "# Crear lista de planetas\n",
    "planets = ['Mercury', 'Venus', 'Earth', 'Mars', 'Jupiter', 'Saturn', 'Uranus', 'Neptune']\n",
    "\n",
    "# Agregar a plutón, mostrar longitud y último elemento\n",
    "planets.append('Plutón')\n",
    "print(f\"Hay {len(planets)} planetas y el más lejano es {planets[-1]}\")"
   ]
  },
  {
   "cell_type": "markdown",
   "metadata": {},
   "source": [
    "## Ejercicio 2: Trabajar los datos de una lista\n",
    "El usuario ingresará el nombre de un planeta y el sistema lo devolverá."
   ]
  },
  {
   "cell_type": "code",
   "execution_count": 9,
   "metadata": {},
   "outputs": [
    {
     "name": "stdout",
     "output_type": "stream",
     "text": [
      "Estos planetas son más cercanos al sol que el planeta que ingresó: ['Mercury', 'Venus', 'Earth', 'Mars', 'Jupiter', 'Saturn']\n",
      "Estos planetas son más lejanos al sol que el planeta que ingresó: ['Neptune']\n"
     ]
    }
   ],
   "source": [
    "# Crear lista de planetas\n",
    "planets = ['Mercury', 'Venus', 'Earth', 'Mars', 'Jupiter', 'Saturn', 'Uranus', 'Neptune']\n",
    "\n",
    "# Solicitar nombre de un planeta\n",
    "planeta = input(\"Ingrese el nombre de un planeta: \")\n",
    "print(f\"Estos planetas son más cercanos al sol que el planeta que ingresó: {planets[:planets.index(planeta)]}\")\n",
    "print(f\"Estos planetas son más lejanos al sol que el planeta que ingresó: {planets[planets.index(planeta)+1:]}\")"
   ]
  }
 ],
 "metadata": {
  "interpreter": {
   "hash": "63fd5069d213b44bf678585dea6b12cceca9941eaf7f819626cde1f2670de90d"
  },
  "kernelspec": {
   "display_name": "Python 3.9.6 64-bit",
   "language": "python",
   "name": "python3"
  },
  "language_info": {
   "codemirror_mode": {
    "name": "ipython",
    "version": 3
   },
   "file_extension": ".py",
   "mimetype": "text/x-python",
   "name": "python",
   "nbconvert_exporter": "python",
   "pygments_lexer": "ipython3",
   "version": "3.9.6"
  },
  "orig_nbformat": 4
 },
 "nbformat": 4,
 "nbformat_minor": 2
}
