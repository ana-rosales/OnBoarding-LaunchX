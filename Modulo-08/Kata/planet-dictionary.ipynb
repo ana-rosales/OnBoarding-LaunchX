{
 "cells": [
  {
   "cell_type": "markdown",
   "metadata": {},
   "source": [
    "# Diccionario de planetas\n",
    "## Ejercicio 1: Creación de diccionarios de Python\n"
   ]
  },
  {
   "cell_type": "code",
   "execution_count": 3,
   "metadata": {},
   "outputs": [
    {
     "name": "stdout",
     "output_type": "stream",
     "text": [
      "Mars tiene 2 lunas.\n"
     ]
    }
   ],
   "source": [
    "# Crear diccionario\n",
    "planet = {\n",
    "    'name': 'Mars',\n",
    "    'moons': 2\n",
    "}\n",
    "\n",
    "# Mostrar lunas\n",
    "print(f\"{planet.get('name')} tiene {planet.get('moons')} lunas.\")"
   ]
  },
  {
   "cell_type": "code",
   "execution_count": 8,
   "metadata": {},
   "outputs": [
    {
     "name": "stdout",
     "output_type": "stream",
     "text": [
      "Mars tiene una circunferencia de 6752 km.\n"
     ]
    }
   ],
   "source": [
    "# Agregar clave con contenido\n",
    "planet.update({\n",
    "    'circunferencia (km)': {\n",
    "        'polar': 6752,\n",
    "        'equatorial': 6792\n",
    "    }\n",
    "})\n",
    "\n",
    "# Mostrar circunferencia\n",
    "print(f\"{planet.get('name')} tiene una circunferencia de {planet.get('circunferencia (km)').get('polar')} km.\")"
   ]
  },
  {
   "cell_type": "markdown",
   "metadata": {},
   "source": [
    "## Ejercicio 2: Programación dinámica con diccionarios"
   ]
  },
  {
   "cell_type": "code",
   "execution_count": 17,
   "metadata": {},
   "outputs": [
    {
     "name": "stdout",
     "output_type": "stream",
     "text": [
      "De los 12 planetas del sistema solar, existen 214 lunas y en promedio cada planeta tiene 17.833333333333332 lunas.\n"
     ]
    }
   ],
   "source": [
    "# Crear diccionario\n",
    "planet_moons = {\n",
    "    'mercury': 0,\n",
    "    'venus': 0,\n",
    "    'earth': 1,\n",
    "    'mars': 2,\n",
    "    'jupiter': 79,\n",
    "    'saturn': 82,\n",
    "    'uranus': 27,\n",
    "    'neptune': 14,\n",
    "    'pluto': 5,\n",
    "    'haumea': 2,\n",
    "    'makemake': 1,\n",
    "    'eris': 1\n",
    "}\n",
    "\n",
    "# Número de lunas\n",
    "total_lunas = 0\n",
    "\n",
    "for lunas in planet_moons.values():\n",
    "    total_lunas = total_lunas + lunas\n",
    "\n",
    "# Número de planetas\n",
    "total_planetas = len(planet_moons.keys())\n",
    "\n",
    "# Promedio de lunas\n",
    "promedio = total_lunas/total_planetas\n",
    "\n",
    "# Imprimir\n",
    "print(f\"De los {total_planetas} planetas del sistema solar, existen {total_lunas} lunas y en promedio cada planeta tiene {promedio} lunas.\")"
   ]
  }
 ],
 "metadata": {
  "interpreter": {
   "hash": "78a24313ce5d297e1f882932b410a04f19d5e4270d237ad6f167088696cc12c9"
  },
  "kernelspec": {
   "display_name": "Python 3.9.10 64-bit (windows store)",
   "language": "python",
   "name": "python3"
  },
  "language_info": {
   "codemirror_mode": {
    "name": "ipython",
    "version": 3
   },
   "file_extension": ".py",
   "mimetype": "text/x-python",
   "name": "python",
   "nbconvert_exporter": "python",
   "pygments_lexer": "ipython3",
   "version": "3.9.10"
  },
  "orig_nbformat": 4
 },
 "nbformat": 4,
 "nbformat_minor": 2
}
