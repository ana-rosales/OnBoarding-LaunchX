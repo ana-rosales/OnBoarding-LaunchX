{
 "cells": [
  {
   "cell_type": "markdown",
   "metadata": {},
   "source": [
    "# Diccionarios"
   ]
  },
  {
   "cell_type": "code",
   "execution_count": 6,
   "metadata": {},
   "outputs": [
    {
     "name": "stdout",
     "output_type": "stream",
     "text": [
      "Earth\n",
      "Earth\n",
      "Makemake polar diameter: 133709\n"
     ]
    }
   ],
   "source": [
    "# creación\n",
    "planet = {\n",
    "    'name': 'Earth',\n",
    "    'moons': 1\n",
    "}\n",
    "\n",
    "# acceder a un valor (devuelve none si vacío)\n",
    "print(planet.get('name'))\n",
    "# ó (devuelve KeyError si vacío)\n",
    "print(planet['name'])\n",
    "\n",
    "# actualizar valores (muchos en una)\n",
    "planet.update({'name': 'Makemake'})\n",
    "# ó (de uno en uno)\n",
    "planet['name'] = 'Makemake'\n",
    "\n",
    "# crear otra clave\n",
    "planet['nueva clave'] = 'valor'\n",
    "\n",
    "# quitar clave\n",
    "planet.pop('nueva clave')\n",
    "\n",
    "# insertarle un diccionario\n",
    "planet['diameter (km)'] = {\n",
    "    'polar' : 133709,\n",
    "    'equatorial' : 142984\n",
    "}\n",
    "\n",
    "# recuperar valores de diccionario anidado\n",
    "print(f\"{planet['name']} polar diameter: {planet['diameter (km)']['polar']}\")"
   ]
  },
  {
   "cell_type": "code",
   "execution_count": 7,
   "metadata": {},
   "outputs": [
    {
     "name": "stdout",
     "output_type": "stream",
     "text": [
      "october: 3.5cm\n",
      "november: 4.2cm\n",
      "december: 2.1cm\n"
     ]
    }
   ],
   "source": [
    "# Mostrar todo el contenido\n",
    "rainfall = {\n",
    "    'october': 3.5,\n",
    "    'november': 4.2,\n",
    "    'december': 2.1\n",
    "}\n",
    "\n",
    "for key in rainfall.keys():\n",
    "    print(f\"{key}: {rainfall[key]}cm\")"
   ]
  },
  {
   "cell_type": "code",
   "execution_count": 14,
   "metadata": {},
   "outputs": [
    {
     "name": "stdout",
     "output_type": "stream",
     "text": [
      "9.1\n"
     ]
    }
   ],
   "source": [
    "# Comprobar existencia de un valor\n",
    "if 'december' in rainfall:\n",
    "    rainfall['december'] = rainfall['december'] + 1\n",
    "else:\n",
    "    rainfall['december'] = 1\n",
    "print(f\"{rainfall['december']}\")"
   ]
  },
  {
   "cell_type": "code",
   "execution_count": 15,
   "metadata": {},
   "outputs": [
    {
     "name": "stdout",
     "output_type": "stream",
     "text": [
      "There was 16.8cm in the last quarter\n"
     ]
    }
   ],
   "source": [
    "total_rainfall = 0\n",
    "for value in rainfall.values():\n",
    "    total_rainfall = total_rainfall + value\n",
    "print(f\"There was {total_rainfall}cm in the last quarter\")"
   ]
  }
 ],
 "metadata": {
  "interpreter": {
   "hash": "69eb92836b941e979072a76c7fcfffe5419cca933cedd02cfafbdfca1a93358c"
  },
  "kernelspec": {
   "display_name": "Python 3.9.10 64-bit",
   "language": "python",
   "name": "python3"
  },
  "language_info": {
   "codemirror_mode": {
    "name": "ipython",
    "version": 3
   },
   "file_extension": ".py",
   "mimetype": "text/x-python",
   "name": "python",
   "nbconvert_exporter": "python",
   "pygments_lexer": "ipython3",
   "version": "3.9.10"
  },
  "orig_nbformat": 4
 },
 "nbformat": 4,
 "nbformat_minor": 2
}
