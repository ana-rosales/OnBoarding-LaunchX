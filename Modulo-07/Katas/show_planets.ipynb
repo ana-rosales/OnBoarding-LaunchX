{
 "cells": [
  {
   "cell_type": "markdown",
   "metadata": {},
   "source": [
    "# Mostrar planetas\n",
    "## Ejercicio 1: Uso de ciclos <code>while</code> en Python.\n",
    "Creación de un programa que solicita nombres de planetas a un usuario."
   ]
  },
  {
   "cell_type": "code",
   "execution_count": 1,
   "metadata": {},
   "outputs": [],
   "source": [
    "# aquí se guarda entrada\n",
    "new_planet = ''\n",
    "# arreglo de planetas\n",
    "planets = []\n",
    "\n",
    "# ciclo\n",
    "while(new_planet != 'done'):\n",
    "    if new_planet:\n",
    "        planets.append(new_planet)\n",
    "    new_planet = input('Inserte el nombre de un planeta, si desea terminar escriba \"done\"')"
   ]
  },
  {
   "cell_type": "markdown",
   "metadata": {},
   "source": [
    "## Creación de un ciclo <code>for</code>\n",
    "Completaremos el código anterior añadiendo un <code>for</code> que muestre el contenido de la lista de planetas."
   ]
  },
  {
   "cell_type": "code",
   "execution_count": 4,
   "metadata": {},
   "outputs": [
    {
     "name": "stdout",
     "output_type": "stream",
     "text": [
      "Mercurio\n",
      "Venus\n",
      "Tierra\n",
      "Marte\n",
      "Júpiter\n",
      "Saturno\n",
      "Urano\n",
      "Neptuno\n",
      "Plutón ?\n"
     ]
    }
   ],
   "source": [
    "# código anterior\n",
    "new_planet = ''\n",
    "planets = []\n",
    "\n",
    "while(new_planet != 'done'):\n",
    "    if new_planet:\n",
    "        planets.append(new_planet)\n",
    "    new_planet = input('Inserte el nombre de un planeta, si desea terminar escriba \"done\"')\n",
    "    \n",
    "# ciclo for\n",
    "for planet in planets:\n",
    "    print(planet)\n"
   ]
  }
 ],
 "metadata": {
  "interpreter": {
   "hash": "69eb92836b941e979072a76c7fcfffe5419cca933cedd02cfafbdfca1a93358c"
  },
  "kernelspec": {
   "display_name": "Python 3.9.10 64-bit",
   "language": "python",
   "name": "python3"
  },
  "language_info": {
   "codemirror_mode": {
    "name": "ipython",
    "version": 3
   },
   "file_extension": ".py",
   "mimetype": "text/x-python",
   "name": "python",
   "nbconvert_exporter": "python",
   "pygments_lexer": "ipython3",
   "version": "3.9.10"
  },
  "orig_nbformat": 4
 },
 "nbformat": 4,
 "nbformat_minor": 2
}
