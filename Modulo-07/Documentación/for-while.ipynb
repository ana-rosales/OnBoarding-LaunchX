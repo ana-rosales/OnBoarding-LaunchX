{
 "cells": [
  {
   "cell_type": "markdown",
   "metadata": {},
   "source": [
    "# Ciclos *for* y *while*"
   ]
  },
  {
   "cell_type": "code",
   "execution_count": 2,
   "metadata": {},
   "outputs": [],
   "source": [
    "# Almacena entrada\n",
    "user_input = ''\n",
    "# Lista para almacenar entradas\n",
    "inputs = []\n",
    "\n",
    "# While\n",
    "while user_input.lower() != 'done':\n",
    "    # Verificar si hay algo en user_inputs\n",
    "    if user_input:\n",
    "        # Almacenar valor existente en la lista\n",
    "        inputs.append(user_input)\n",
    "    # Capturar nuevo valor\n",
    "    user_input = input('Enter a new value, or done when done')"
   ]
  },
  {
   "cell_type": "code",
   "execution_count": 1,
   "metadata": {},
   "outputs": [
    {
     "name": "stdout",
     "output_type": "stream",
     "text": [
      "4\n",
      "3\n",
      "2\n",
      "1\n",
      "0\n",
      "Blast off!! 🚀\n"
     ]
    }
   ],
   "source": [
    "# De la biblioteca time, importamos la clase sleep\n",
    "from time import sleep\n",
    "# Lista\n",
    "countdown = [4,3,2,1,0]\n",
    "\n",
    "# For\n",
    "for number in countdown:\n",
    "    # Mostrar el número\n",
    "    print(number)\n",
    "\n",
    "    # Espera (1 segundo)\n",
    "    sleep(1)\n",
    "\n",
    "# Mensaje final\n",
    "print(\"Blast off!! 🚀\")"
   ]
  }
 ],
 "metadata": {
  "interpreter": {
   "hash": "69eb92836b941e979072a76c7fcfffe5419cca933cedd02cfafbdfca1a93358c"
  },
  "kernelspec": {
   "display_name": "Python 3.9.10 64-bit",
   "language": "python",
   "name": "python3"
  },
  "language_info": {
   "codemirror_mode": {
    "name": "ipython",
    "version": 3
   },
   "file_extension": ".py",
   "mimetype": "text/x-python",
   "name": "python",
   "nbconvert_exporter": "python",
   "pygments_lexer": "ipython3",
   "version": "3.9.10"
  },
  "orig_nbformat": 4
 },
 "nbformat": 4,
 "nbformat_minor": 2
}
