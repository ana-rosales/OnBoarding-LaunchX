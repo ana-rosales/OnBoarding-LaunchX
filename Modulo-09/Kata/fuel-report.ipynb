{
 "cells": [
  {
   "cell_type": "markdown",
   "metadata": {},
   "source": [
    "# Informe de combustible\n",
    "## Ejercicio 1: Uso de funciones en Python.\n",
    "Informe sobre el combustible disponible en 3 tanques en un cohete."
   ]
  },
  {
   "cell_type": "code",
   "execution_count": 15,
   "metadata": {},
   "outputs": [
    {
     "data": {
      "text/plain": [
       "3.3333333333333335"
      ]
     },
     "execution_count": 15,
     "metadata": {},
     "output_type": "execute_result"
    }
   ],
   "source": [
    "# función original\n",
    "def fuel_report(tanque1,tanque2,tanque3):\n",
    "    total = tanque1+tanque2+tanque3\n",
    "    promedio = total/3\n",
    "    return promedio\n",
    "\n",
    "fuel_report(1,3,6)"
   ]
  },
  {
   "cell_type": "code",
   "execution_count": 16,
   "metadata": {},
   "outputs": [
    {
     "name": "stdout",
     "output_type": "stream",
     "text": [
      "Promedio combustible en cada tanque: 3.3333333333333335\n"
     ]
    }
   ],
   "source": [
    "# función que saca promedio\n",
    "def promedio(*args):\n",
    "    total = len(args)\n",
    "    suma = sum(args)\n",
    "    return suma/total\n",
    "\n",
    "# lee el combustible en cada tanque\n",
    "def fuel_report(tanque1,tanque2,tanque3):\n",
    "    combustible = promedio(tanque1,tanque2,tanque3)\n",
    "    return combustible\n",
    "\n",
    "# prueba con tanques vacíos\n",
    "print(f\"Promedio combustible en cada tanque: {fuel_report(1,3,6)}\")"
   ]
  },
  {
   "cell_type": "markdown",
   "metadata": {},
   "source": [
    "## Ejercicio 2: Trabajo con argumentos de palabra clave"
   ]
  },
  {
   "cell_type": "code",
   "execution_count": 49,
   "metadata": {},
   "outputs": [
    {
     "name": "stdout",
     "output_type": "stream",
     "text": [
      "Informe de lanzamiento.\n",
      "Tiempo en llegar: 20.5h.\n",
      "Destino: Moon.\n",
      "Promedio combustible: 120l.\n"
     ]
    }
   ],
   "source": [
    "# función de informe completo\n",
    "def full_report(prelanzamiento,vuelo,destino,tanqueEx,tanqueIn):\n",
    "    comb = tanqueEx + tanqueIn\n",
    "    llegada = prelanzamiento + vuelo\n",
    "    return f\"\"\"Informe de lanzamiento.\n",
    "Tiempo en llegar: {llegada}h.\n",
    "Destino: {destino}.\n",
    "Promedio combustible: {comb}l.\"\"\"\n",
    "\n",
    "# prueba\n",
    "print(f\"{full_report(18,2.5,'Moon',80,40)}\")"
   ]
  },
  {
   "cell_type": "code",
   "execution_count": 46,
   "metadata": {},
   "outputs": [
    {
     "name": "stdout",
     "output_type": "stream",
     "text": [
      "Informe de lanzamiento.\n",
      "Tiempo en llegar: 20.5h.\n",
      "Destino: Moon.\n",
      "Promedio combustible: 120l.\n"
     ]
    }
   ],
   "source": [
    "# nueva función de reporte\n",
    "def full_report(destino,*tiempo,**tanques):\n",
    "    return f\"\"\"Informe de lanzamiento.\n",
    "Tiempo en llegar: {sum(tiempo)}h.\n",
    "Destino: {destino}.\n",
    "Promedio combustible: {sum(tanques.values())}l.\"\"\"\n",
    "\n",
    "# prueba\n",
    "print(f\"{full_report('Moon',18,2.5,tanque1=80,tanque2=40)}\")"
   ]
  },
  {
   "cell_type": "code",
   "execution_count": 47,
   "metadata": {},
   "outputs": [
    {
     "name": "stdout",
     "output_type": "stream",
     "text": [
      "Informe de lanzamiento.\n",
      "Tiempo en llegar: 20.5h.\n",
      "Destino: Moon.\n",
      "Promedio combustible: 120l.\n",
      "\ttanque1 contiene 80l.\n",
      "\ttanque2 contiene 40l.\n"
     ]
    }
   ],
   "source": [
    "# indicar cuánto tiene cada tanque\n",
    "def full_report(destino,*tiempo,**tanques):\n",
    "    reporte = f\"\"\"Informe de lanzamiento.\n",
    "Tiempo en llegar: {sum(tiempo)}h.\n",
    "Destino: {destino}.\n",
    "Promedio combustible: {sum(tanques.values())}l.\"\"\"\n",
    "\n",
    "    for tanque,comb in tanques.items():\n",
    "        reporte += f\"\\n\\t{tanque} contiene {comb}l.\"\n",
    "    \n",
    "    return reporte\n",
    "# prueba\n",
    "print(f\"{full_report('Moon',18,2.5,tanque1=80,tanque2=40)}\")"
   ]
  }
 ],
 "metadata": {
  "interpreter": {
   "hash": "69eb92836b941e979072a76c7fcfffe5419cca933cedd02cfafbdfca1a93358c"
  },
  "kernelspec": {
   "display_name": "Python 3.9.10 64-bit",
   "language": "python",
   "name": "python3"
  },
  "language_info": {
   "codemirror_mode": {
    "name": "ipython",
    "version": 3
   },
   "file_extension": ".py",
   "mimetype": "text/x-python",
   "name": "python",
   "nbconvert_exporter": "python",
   "pygments_lexer": "ipython3",
   "version": "3.9.10"
  },
  "orig_nbformat": 4
 },
 "nbformat": 4,
 "nbformat_minor": 2
}
